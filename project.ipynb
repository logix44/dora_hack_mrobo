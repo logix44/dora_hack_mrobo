{
 "cells": [
  {
   "cell_type": "code",
   "execution_count": null,
   "metadata": {},
   "outputs": [],
   "source": [
    "#### 데이터를 불러와서 필요없는 컬럼을 날리고, datetime 데이터를 str에서 date타입으로 변경 ####\n",
    "import pandas as pd\n",
    "import matplotlib.pyplot as plt\n",
    "\n",
    "df = pd.read_csv(\"C:\\projectdata\\output2.csv\",encoding='utf-8')\n",
    "del df['Unnamed: 0']\n",
    "df['datetime'] = df['datetime'].apply(lambda x: pd.to_datetime(str(x), format='%Y-%m-%d' ))\n",
    "df = df.sort_values('datetime')"
   ]
  },
  {
   "cell_type": "code",
   "execution_count": null,
   "metadata": {},
   "outputs": [],
   "source": [
    "## 일별데이터 ##\n",
    "df = df[['datetime','value']]\n",
    "result_d = df.groupby('datetime').sum()\n",
    "result_d\n",
    "#result_d.to_csv('C:/cslee/result_d.csv', encoding='euc-kr') # file path, file name"
   ]
  },
  {
   "cell_type": "code",
   "execution_count": null,
   "metadata": {},
   "outputs": [],
   "source": [
    "#### 일별데이터 ####\n",
    "result_m = pd.Series(result_d['value'])\n",
    "a = result_m.resample('M').sum() ### 월별로 묶기 ####\n",
    "df_m = pd.DataFrame(a)\n",
    "df "
   ]
  },
  {
   "cell_type": "code",
   "execution_count": null,
   "metadata": {},
   "outputs": [],
   "source": [
    "#df.to_csv('C:/cslee/result_m.csv', encoding='euc-kr') # file path, file name\n",
    "df = df_m.reset_index() \n",
    "plt.figure(figsize=(30,18))\n",
    "df['value'].plot(kind='bar',fontsize =15,)\n",
    "plt.title('Value',fontsize=20)\n",
    "plt.show()\n",
    "plt.close()"
   ]
  },
  {
   "cell_type": "code",
   "execution_count": null,
   "metadata": {},
   "outputs": [],
   "source": [
    "result_s = pd.Series(result_d['value'])\n",
    "b = result_s.resample('W').sum()\n",
    "df_w = pd.DataFrame(b)\n",
    "df_w = df_w.reset_index() \n",
    "df_w\n",
    "#df_w.to_csv('C:/cslee/result_w.csv', encoding='euc-kr')"
   ]
  },
  {
   "cell_type": "code",
   "execution_count": null,
   "metadata": {},
   "outputs": [],
   "source": [
    " ### value값이 큰 2013년 11월만 추출 ###\n",
    "import numpy as np\n",
    "c= result_d.reset_index()\n",
    "c['datetime'][610]\n",
    "c['datetime'][640]\n",
    "result_11= c.loc[610:639,:]"
   ]
  },
  {
   "cell_type": "code",
   "execution_count": null,
   "metadata": {},
   "outputs": [],
   "source": [
    "## date타입을 str으로 변경해서 x라벨로 넣음 ###\n",
    "plt.figure(figsize=(30,18))\n",
    "result_11['value'].plot(kind='bar',fontsize =15)\n",
    "result_11['datetime'] = result_11['datetime'].astype(str) \n",
    "x_cos = np.arange(len(result_11['datetime']))\n",
    "### 그래프 ###\n",
    "plt.xticks(x_cos,result_11['datetime'])\n",
    "plt.title('October',fontsize=50)\n",
    "plt.show()\n",
    "plt.close()"
   ]
  }
 ],
 "metadata": {
  "kernelspec": {
   "display_name": "Python 3",
   "language": "python",
   "name": "python3"
  },
  "language_info": {
   "codemirror_mode": {
    "name": "ipython",
    "version": 3
   },
   "file_extension": ".py",
   "mimetype": "text/x-python",
   "name": "python",
   "nbconvert_exporter": "python",
   "pygments_lexer": "ipython3",
   "version": "3.6.5"
  }
 },
 "nbformat": 4,
 "nbformat_minor": 2
}
